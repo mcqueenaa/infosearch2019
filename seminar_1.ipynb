{
 "cells": [
  {
   "cell_type": "code",
   "execution_count": 143,
   "metadata": {
    "collapsed": true
   },
   "outputs": [],
   "source": [
    "import os\n",
    "import numpy as np\n",
    "import pymorphy2 as pm2 \n",
    "pmm = pm2.MorphAnalyzer() \n",
    "import re"
   ]
  },
  {
   "cell_type": "code",
   "execution_count": 144,
   "metadata": {
    "collapsed": true
   },
   "outputs": [],
   "source": [
    "from sklearn.feature_extraction.text import CountVectorizer\n",
    "vectorizer = CountVectorizer()"
   ]
  },
  {
   "cell_type": "code",
   "execution_count": 145,
   "metadata": {},
   "outputs": [
    {
     "name": "stdout",
     "output_type": "stream",
     "text": [
      "[nltk_data] Downloading package stopwords to\n",
      "[nltk_data]     C:\\Users\\Sony\\AppData\\Roaming\\nltk_data...\n",
      "[nltk_data]   Package stopwords is already up-to-date!\n"
     ]
    }
   ],
   "source": [
    "import nltk \n",
    "from nltk import ngrams\n",
    "from nltk.text import Text \n",
    "nltk.download(\"stopwords\") \n",
    "#--------# \n",
    "from nltk.corpus import stopwords \n",
    "\n",
    "#Create lemmatizer and stopwords list \n",
    "russian_stopwords = stopwords.words(\"russian\")"
   ]
  },
  {
   "cell_type": "code",
   "execution_count": 146,
   "metadata": {
    "collapsed": true
   },
   "outputs": [],
   "source": [
    "episodes = []\n",
    "for root, dirs, files in os.walk('friends'):\n",
    "    for name in files:\n",
    "        episodes.append(os.path.join(root, name))"
   ]
  },
  {
   "cell_type": "code",
   "execution_count": 147,
   "metadata": {
    "collapsed": true
   },
   "outputs": [],
   "source": [
    "def clean_text(text):\n",
    "    text = re.sub(r'[^\\w\\s]','',text) \n",
    "    text = re.sub(r'\\d', '', text) \n",
    "    text = re.sub(r'[A-Za-z]', '', text) \n",
    "    text = [pmm.normal_forms(x)[0] for x in text.split() if x not in russian_stopwords] \n",
    "    return text"
   ]
  },
  {
   "cell_type": "code",
   "execution_count": 148,
   "metadata": {
    "collapsed": true
   },
   "outputs": [],
   "source": [
    "texts = {}\n",
    "for i in episodes:\n",
    "    with open(i, 'r', encoding='utf-8') as t:\n",
    "        text = t.read()\n",
    "        new_text = clean_text(text)\n",
    "        texts[i] = new_text"
   ]
  },
  {
   "cell_type": "code",
   "execution_count": 151,
   "metadata": {
    "collapsed": true
   },
   "outputs": [],
   "source": [
    "##Получение названий серий\n",
    "titles = []\n",
    "for root, dirs, files in os.walk('friends'):\n",
    "    for name in files:\n",
    "        titles.append(os.path.join(name))"
   ]
  },
  {
   "cell_type": "code",
   "execution_count": 149,
   "metadata": {
    "collapsed": true
   },
   "outputs": [],
   "source": [
    "corpus = []\n",
    "for key, value in texts.items():\n",
    "    x = ' '.join(value)\n",
    "    corpus.append(x)"
   ]
  },
  {
   "cell_type": "code",
   "execution_count": 202,
   "metadata": {
    "scrolled": true
   },
   "outputs": [],
   "source": [
    "X = vectorizer.fit_transform(corpus)\n",
    "f_matrix = X.toarray()"
   ]
  },
  {
   "cell_type": "code",
   "execution_count": 203,
   "metadata": {},
   "outputs": [
    {
     "data": {
      "text/plain": [
       "array([[0, 0, 0, ..., 0, 0, 0],\n",
       "       [0, 0, 0, ..., 0, 0, 0],\n",
       "       [0, 0, 0, ..., 0, 0, 0],\n",
       "       ...,\n",
       "       [0, 0, 0, ..., 0, 0, 0],\n",
       "       [0, 0, 0, ..., 0, 0, 0],\n",
       "       [0, 0, 0, ..., 0, 0, 0]], dtype=int64)"
      ]
     },
     "execution_count": 203,
     "metadata": {},
     "output_type": "execute_result"
    }
   ],
   "source": [
    "## Создание обратной матрицы\n",
    "matrix = np.transpose(f_matrix)\n",
    "matrix"
   ]
  },
  {
   "cell_type": "code",
   "execution_count": 204,
   "metadata": {},
   "outputs": [
    {
     "data": {
      "text/plain": [
       "15240"
      ]
     },
     "execution_count": 204,
     "metadata": {},
     "output_type": "execute_result"
    }
   ],
   "source": [
    "len(matrix)"
   ]
  },
  {
   "cell_type": "code",
   "execution_count": 227,
   "metadata": {},
   "outputs": [
    {
     "name": "stdout",
     "output_type": "stream",
     "text": [
      "Введите запрос: хочу\n"
     ]
    }
   ],
   "source": [
    "query = input('Введите запрос: ')"
   ]
  },
  {
   "cell_type": "code",
   "execution_count": 228,
   "metadata": {},
   "outputs": [
    {
     "data": {
      "text/plain": [
       "['хотеть']"
      ]
     },
     "execution_count": 228,
     "metadata": {},
     "output_type": "execute_result"
    }
   ],
   "source": [
    "norm_query = clean_text(query)\n",
    "norm_query"
   ]
  },
  {
   "cell_type": "code",
   "execution_count": 229,
   "metadata": {},
   "outputs": [],
   "source": [
    "##Создание матрицы для запроса\n",
    "m_query = []\n",
    "for i in vectorizer.get_feature_names():\n",
    "    if i in query:\n",
    "        m_query.append(1)\n",
    "    else:\n",
    "        m_query.append(0)"
   ]
  },
  {
   "cell_type": "code",
   "execution_count": 232,
   "metadata": {
    "scrolled": false
   },
   "outputs": [],
   "source": [
    "##Поиск запроса в текстах (почему-то не работает так, как надо, а почему - я не смогла разобраться...)\n",
    "response = {}\n",
    "for index, item in enumerate(titles):\n",
    "    k = 0\n",
    "    column = matrix[:,index]\n",
    "    for a,b in zip(m_query, column):\n",
    "        if b >= 0 and a == 1:\n",
    "            k += 1\n",
    "    if k > 0:\n",
    "        response[item] = k"
   ]
  },
  {
   "cell_type": "code",
   "execution_count": 238,
   "metadata": {},
   "outputs": [
    {
     "name": "stdout",
     "output_type": "stream",
     "text": [
      "Friends - 1x01 - The One Where Monica Gets A Roommate.ru.txt\n",
      "Friends - 1x02 - The One With The Sonogram At The End.ru.txt\n",
      "Friends - 1x03 - The One With The Thumb.ru.txt\n",
      "Friends - 1x04 - The One With George Stephanopoulos.ru.txt\n",
      "Friends - 1x05 - The One With The East German Laundry Detergent.ru.txt\n",
      "Friends - 1x06 - The One With The Butt.ru.txt\n",
      "Friends - 1x07 - The One With The Blackout.ru.txt\n",
      "Friends - 1x08 - The One Where Nana Dies Twice.ru.txt\n",
      "Friends - 1x09 - The One Where Underdog Gets Away.ru.txt\n",
      "Friends - 1x10 - The One With The Monkey.ru.txt\n",
      "Friends - 1x11 - The One With Mrs. Bing.ru.txt\n",
      "Friends - 1x12 - The One With The Dozen Lasagnas.ru.txt\n",
      "Friends - 1x13 - The One With The Boobies.ru.txt\n",
      "Friends - 1x14 - The One With The Candy Hearts.ru.txt\n",
      "Friends - 1x15 - The One With The Stoned Guy.ru.txt\n",
      "Friends - 1x16 - The One With Two Parts (1).ru.txt\n",
      "Friends - 1x17 - The One With Two Parts (2).ru.txt\n",
      "Friends - 1x18 - The One With All The Poker.ru.txt\n",
      "Friends - 1x19 - The One Where The Monkey Gets Away.ru.txt\n",
      "Friends - 1x20 - The One With The Evil Orthodontist.ru.txt\n",
      "Friends - 2x01 - The One With Ross's New Girlfriend.DVDRip.ru.txt\n",
      "Friends - 2x01 - The One With Ross's New Girlfriend.ru.txt\n",
      "Friends - 2x02 - The One With The Breast Milk.ru.txt\n",
      "Friends - 2x03 - The One Where Heckles Dies.ru.txt\n",
      "Friends - 2x04 - The One With Phoebe's Husband.ru.txt\n",
      "Friends - 2x05 - The One With Five Steaks And An Eggplant.ru.txt\n",
      "Friends - 2x06 - The One With The Baby On The Bus.ru.txt\n",
      "Friends - 2x07 - The One Where Ross Finds Out.ru.txt\n",
      "Friends - 2x08 - The One With The List.ru.txt\n",
      "Friends - 2x09 - The One With Phoebe's Dad.ru.txt\n",
      "Friends - 2x10 - The One With Russ.ru.txt\n",
      "Friends - 2x11 - The One With The Lesbian Wedding.ru.txt\n",
      "Friends - 2x12 - The One After The Super Bowl (1).ru.txt\n",
      "Friends - 2x13 - The One After The Super Bowl (2).ru.txt\n",
      "Friends - 2x14 - The One With The Prom Video.ru.txt\n",
      "Friends - 2x15 - The One Where Ross And Rachel...You Know.ru.txt\n",
      "Friends - 2x16 - The One Where Joey Moves Out.ru.txt\n",
      "Friends - 2x17 - The One Where Eddie Moves In.ru.txt\n",
      "Friends - 2x18 - The One Where Dr. Ramoray Dies.ru.txt\n",
      "Friends - 2x19 - The One Where Eddie Won't Go.ru.txt\n",
      "Friends - 2x20 - The One Where Old Yeller Dies.NurlanB.ru.txt\n",
      "Friends - 2x21 - The One With The Bullies.ru.txt\n",
      "Friends - 2x22 - The One With The Two Parties.ru.txt\n",
      "Friends - 2x23 - The One With The Chicken Pox.ru.txt\n",
      "Friends - 2x24 - The One With Barry And Mindy's Wedding.ru.txt\n",
      "Friends - 3x01 - The One With The Princess Leia Fantasy.ru.txt\n",
      "Friends - 3x02 - The One Where No One's Ready.ru.txt\n",
      "Friends - 3x03 - The One With The Jam.ru.txt\n",
      "Friends - 3x04 - The One With The Metaphorical Tunnel.ru.txt\n",
      "Friends - 3x05 - The One With Frank Jr..ru.txt\n",
      "Friends - 3x06 - The One With The Flashback.ru.txt\n",
      "Friends - 3x07 - The One With The Race Car Bed.ru.txt\n",
      "Friends - 3x08 - The One With The Giant Poking Device.ru.txt\n",
      "Friends - 3x09 - The One With The Football.ru.txt\n",
      "Friends - 3x10 - The One Where Rachel Quits.ru.txt\n",
      "Friends - 3x11 - The One Where Chandler Can't Remember Which Sister.ru.txt\n",
      "Friends - 3x12 - The One With All The Jealousy.ru.txt\n",
      "Friends - 3x13 - The One Where Monica And Richard Are Just Friends.ru.txt\n",
      "Friends - 3x14 - The One With Phoebe's Ex-Partner.ru.txt\n",
      "Friends - 3x15 - The One Where Ross And Rachel Take A Break (1).ru.txt\n",
      "Friends - 3x16 - The One With The Morning After (2).ru.txt\n",
      "Friends - 3x17 - The One Without The Ski Trip.ru.txt\n",
      "Friends - 3x18 - The One With The Hypnosis Tape.ru.txt\n",
      "Friends - 3x19 - The One With The Tiny T-Shirt.ru.txt\n",
      "Friends - 3x20 - The One With The Dollhouse.ru.txt\n",
      "Friends - 3x21 - The One With A Chick And A Duck.ru.txt\n",
      "Friends - 4x01 - The One With The Jellyfish.ru.txt\n",
      "Friends - 4x01 - The One With The Jellyfish.Tv.ru.txt\n",
      "Friends - 4x02 - The One With The Cat.ru.txt\n",
      "Friends - 4x02 - The One With The Cat.Tv.ru.txt\n",
      "Friends - 4x03 - The One With The 'Cuffs.ru.txt\n",
      "Friends - 4x04 - The One With The Ballroom Dancing.ru.txt\n",
      "Friends - 4x05 - The One With Joey's New Girlfriend.ru.txt\n",
      "Friends - 4x06 - The One With The Dirty Girl.ru.txt\n",
      "Friends - 4x07 - The One Where Chandler Crosses The Line.ru.txt\n",
      "Friends - 4x08 - The One With Chandler In A Box.ru.txt\n",
      "Friends - 4x09 - The One Where They're Going To Party!.ru.txt\n",
      "Friends - 4x10 - The One With The Girl From Poughkeepsie.ru.txt\n",
      "Friends - 4x11 - The One With Phoebe's Uterus.ru.txt\n",
      "Friends - 4x12 - The One With The Embryos.ru.txt\n",
      "Friends - 4x13 - The One With Rachel's Crush.ru.txt\n",
      "Friends - 4x14 - The One With Joey's Dirty Day.ru.txt\n",
      "Friends - 4x15 - The One With All The Rugby.ru.txt\n",
      "Friends - 4x16 - The One With The Fake Party.ru.txt\n",
      "Friends - 4x17 - The One With The Free Porn.ru.txt\n",
      "Friends - 4x18 - The One With Rachel's New Dress.ru.txt\n",
      "Friends - 4x19 - The One With All The Haste.ru.txt\n",
      "Friends - 4x20 - The One With The Wedding Dresses.ru.txt\n",
      "Friends - 4x21 - The One With The Invitations.ru.txt\n",
      "Friends - 4x22 - The One With The Worst Best Man Ever.ru.txt\n",
      "Friends - 4x23-24 - The One With Ross's Wedding (1).ru.txt\n",
      "Friends - 4x24-25 - The One With Ross's Wedding (2).ru.txt\n",
      "Friends - 5x01 - The One After Ross Says Rachel.ru.txt\n",
      "Friends - 5x02 - The One With All The Kissing.ru.txt\n",
      "Friends - 5x03 - The One Hundredth.ru.txt\n",
      "Friends - 5x04 - The One Where Phoebe Hates PBS.ru.txt\n",
      "Friends - 5x05 - The One With The Kips.ru.txt\n",
      "Friends - 5x06 - The One With The Yeti.ru.txt\n",
      "Friends - 5x07 - The One Where Ross Moves In.ru.txt\n",
      "Friends - 5x08 - The One With The Thanksgiving Flashbacks.ru.txt\n",
      "Friends - 5x09 - The One With Ross's Sandwich.ru.txt\n",
      "Friends - 5x10 - The One With The Inappropriate Sister.ru.txt\n",
      "Friends - 5x11 - The One With All The Resolutions.ru.txt\n",
      "Friends - 5x12 - The One With Chandler's Work Laugh.ru.txt\n",
      "Friends - 5x13 - The One With Joey's Bag.ru.txt\n",
      "Friends - 5x14 - The One Where Everybody Finds Out.ru.txt\n",
      "Friends - 5x15 - The One With The Girl Who Hits Joey.ru.txt\n",
      "Friends - 5x16 - The One With The Cop.ru.txt\n",
      "Friends - 5x17 - The One With Rachel's Inadvertent Kiss.ru.txt\n",
      "Friends - 5x18 - The One Where Rachel Smokes.ru.txt\n",
      "Friends - 5x19 - The One Where Ross Can't Flirt.ru.txt\n",
      "Friends - 5x20 - The One With The Ride Along.ru.txt\n",
      "Friends - 5x21 - The One With The Ball.ru.txt\n",
      "Friends - 5x22 - The One With Joey's Big Break.ru.txt\n",
      "Friends - 5x23-24 - The One In Vegas (1).ru.txt\n",
      "Friends - 5x24-25 - The One In Vegas (2).ru.txt\n",
      "Friends - 6x01 - The One After Vegas.ru.txt\n",
      "Friends - 6x02 - The One Where Ross Hugs Rachel.ru.txt\n",
      "Friends - 6x03 - The One With Ross's Denial.ru.txt\n",
      "Friends - 6x04 - The One Where Joey Loses His Insurance.ru.txt\n",
      "Friends - 6x05 - The One With Joey's Porsche.ru.txt\n",
      "Friends - 6x06 - The One On The Last Night.ru.txt\n",
      "Friends - 6x07 - The One Where Phoebe Runs.ru.txt\n",
      "Friends - 6x08 - The One With Ross's Teeth.ru.txt\n",
      "Friends - 6x09 - The One Where Ross Got High.ru.txt\n",
      "Friends - 6x10 - The One With The Routine.ru.txt\n",
      "Friends - 6x11 - The One With The Apothecary Table.ru.txt\n",
      "Friends - 6x12 - The One With The Joke.ru.txt\n",
      "Friends - 6x13 - The One With Rachel's Sister (1).ru.txt\n",
      "Friends - 6x14 - The One Where Chandler Can't Cry (2).ru.txt\n",
      "Friends - 6x15 - The One That Could Have Been (1).ru.txt\n",
      "Friends - 6x16-17 - The One That Could Have Been (2).ru.txt\n",
      "Friends - 6x17 - The One With Unagi.ru.txt\n",
      "Friends - 6x18 - The One Where Ross Dates A Student.ru.txt\n",
      "Friends - 6x19 - The One With Joey's Fridge.ru.txt\n",
      "Friends - 6x20 - The One With Mac And C.H.E.E.S.E..ru.txt\n",
      "Friends - 6x21 - The One Where Ross Meets Elizabeth's Dad.ru.txt\n",
      "Friends - 6x22 - The One Where Paul's The Man.ru.txt\n",
      "Friends - 6x23 - The One With The Ring.ru.txt\n",
      "Friends - 6x24 - The One With The Proposal (1).ru.txt\n",
      "Friends - 6x25-26 - The One With The Proposal (2).ru.txt\n",
      "Friends - 7x01 - The One With Monica's Thunder.ru.txt\n",
      "Friends - 7x02 - The One With Rachel's Book.ru.txt\n",
      "Friends - 7x03 - The One With Phoebe's Cookies.ru.txt\n",
      "Friends - 7x04 - The One With Rachel's Assistant.ru.txt\n",
      "Friends - 7x05 - The One With The Engagement Picture.ru.txt\n",
      "Friends - 7x06 - The One With The Nap Partners.ru.txt\n",
      "Friends - 7x07 - The One With Ross's Library Book.ru.txt\n",
      "Friends - 7x08 - The One Where Chandler Doesn't Like Dogs.ru.txt\n",
      "Friends - 7x09 - The One With All The Candy.ru.txt\n",
      "Friends - 7x10 - The One With The Holiday Armadillo.ru.txt\n",
      "Friends - 7x11 - The One With All The Cheesecakes.ru.txt\n",
      "Friends - 7x12 - The One Where They're Up All Night.ru.txt\n",
      "Friends - 7x13 - The One Where Rosita Dies.ru.txt\n",
      "Friends - 7x14 - The One Where They All Turn Thirty.ru.txt\n",
      "Friends - 7x15 - The One With Joey's New Brain.ru.txt\n",
      "Friends - 7x16 - The One With The Truth About London.ru.txt\n",
      "Friends - 7x17 - The One With The Cheap Wedding Dress.ru.txt\n",
      "Friends - 7x18 - The One With Joey's Award.ru.txt\n",
      "Friends - 7x19 - The One With Ross And Monica's Cousin.ru.txt\n",
      "Friends - 7x20 - The One With Rachel's Big Kiss.ru.txt\n",
      "Friends - 7x21 - The One With The Vows.ru.txt\n",
      "Friends - 7x22 - The One With Chandler's Dad.ru.txt\n",
      "Friends - 7x23 - The One With Chandler And Monica's Wedding (1).ru.txt\n",
      "Friends - 7x24-25 - The One With Chandler And Monica's Wedding (2).ru.txt\n"
     ]
    }
   ],
   "source": [
    "##Выдает документы, в которых встретились слова из запроса. \n",
    "##Чем больше в документе содержится слов из запроса, тем выше он в выдаче (по идее работает, но из-за сломанного поиска этого не видно)\n",
    "sorted_resp = sorted(response.items(), key=lambda x: x[1], reverse=True)\n",
    "for i in sorted_resp:\n",
    "    print(i[0])"
   ]
  },
  {
   "cell_type": "code",
   "execution_count": 43,
   "metadata": {},
   "outputs": [
    {
     "name": "stdout",
     "output_type": "stream",
     "text": [
      "Самое частотное слово в сериях: \"это\"\n",
      "Самое редкое слово в сериях: \"аааа\"\n"
     ]
    }
   ],
   "source": [
    "## a) b) Поиск самого частотного и самого редкого слов в сериях\n",
    "sums = []\n",
    "for row in matrix:\n",
    "    sums.append(sum(row))\n",
    "    \n",
    "max_index = sums.index(max(sums))\n",
    "min_index = sums.index(min(sums))\n",
    "words = vectorizer.get_feature_names()\n",
    "print('Самое частотное слово в сериях: \"' + words[max_index] + '\"')\n",
    "print('Самое редкое слово в сериях: \"' + words[min_index] + '\"')"
   ]
  },
  {
   "cell_type": "code",
   "execution_count": 136,
   "metadata": {},
   "outputs": [
    {
     "name": "stdout",
     "output_type": "stream",
     "text": [
      "Слова, встречающиеся во всех документах: весь, да, думать, знать, как, мочь, не, нет, но, просто, ты, хотеть, что, это.\n"
     ]
    }
   ],
   "source": [
    "## c) Набор слов во всех документах коллекции\n",
    "in_all_docs = []\n",
    "for row, word in zip(matrix, vectorizer.get_feature_names()):\n",
    "    if 0 not in row:\n",
    "        in_all_docs.append(word)\n",
    "print('Слова, встречающиеся во всех документах:', ', '.join(in_all_docs) + '.')"
   ]
  },
  {
   "cell_type": "code",
   "execution_count": null,
   "metadata": {
    "collapsed": true
   },
   "outputs": [],
   "source": []
  }
 ],
 "metadata": {
  "kernelspec": {
   "display_name": "Python 3",
   "language": "python",
   "name": "python3"
  },
  "language_info": {
   "codemirror_mode": {
    "name": "ipython",
    "version": 3
   },
   "file_extension": ".py",
   "mimetype": "text/x-python",
   "name": "python",
   "nbconvert_exporter": "python",
   "pygments_lexer": "ipython3",
   "version": "3.6.1"
  }
 },
 "nbformat": 4,
 "nbformat_minor": 2
}
