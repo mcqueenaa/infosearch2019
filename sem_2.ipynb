{
 "cells": [
  {
   "cell_type": "markdown",
   "metadata": {},
   "source": [
    "В папке с программой должен лежать файл quora_question_pairs_rus.csv"
   ]
  },
  {
   "cell_type": "code",
   "execution_count": 121,
   "metadata": {
    "collapsed": true
   },
   "outputs": [],
   "source": [
    "from math import log\n",
    "import numpy as np\n",
    "import pymorphy2 as pm2 \n",
    "pmm = pm2.MorphAnalyzer() \n",
    "import re\n",
    "import json\n",
    "from operator import itemgetter\n",
    "import timeit\n",
    "import time"
   ]
  },
  {
   "cell_type": "code",
   "execution_count": 9,
   "metadata": {
    "collapsed": true
   },
   "outputs": [],
   "source": [
    "def clean_text(text):\n",
    "    text = re.sub(r'[^\\w\\s]','',text) \n",
    "    text = [pmm.normal_forms(x)[0] for x in text.split()] \n",
    "    return text"
   ]
  },
  {
   "cell_type": "code",
   "execution_count": 10,
   "metadata": {
    "collapsed": true
   },
   "outputs": [],
   "source": [
    "import csv\n",
    "with open('quora_question_pairs_rus.csv', 'r', encoding='utf-8') as q:\n",
    "    str_corpus = csv.reader(q)\n",
    "    file = list(str_corpus)"
   ]
  },
  {
   "cell_type": "code",
   "execution_count": 11,
   "metadata": {
    "collapsed": true
   },
   "outputs": [],
   "source": [
    "file = file[1:]"
   ]
  },
  {
   "cell_type": "code",
   "execution_count": 12,
   "metadata": {
    "collapsed": true
   },
   "outputs": [],
   "source": [
    "queries = []\n",
    "for i in file:\n",
    "    queries.append(i[1])"
   ]
  },
  {
   "cell_type": "code",
   "execution_count": 149,
   "metadata": {
    "collapsed": true
   },
   "outputs": [],
   "source": [
    "d_docs = {}\n",
    "for i in file:\n",
    "    docs[i[2]] = i[3]"
   ]
  },
  {
   "cell_type": "code",
   "execution_count": 150,
   "metadata": {
    "collapsed": true
   },
   "outputs": [],
   "source": [
    "docs = []\n",
    "for i in file:\n",
    "    docs.append([i[2]])"
   ]
  },
  {
   "cell_type": "code",
   "execution_count": 19,
   "metadata": {
    "collapsed": true
   },
   "outputs": [],
   "source": [
    "# корпус уже собран и хранится в json файле\n",
    "#corpus = []\n",
    "#for i in docs:\n",
    "#    j = ' '.join(clean_text(i))\n",
    "#    corpus.append(j)"
   ]
  },
  {
   "cell_type": "code",
   "execution_count": 20,
   "metadata": {},
   "outputs": [],
   "source": [
    "#with open(\"doccorpus.json\", \"w\", encoding = 'utf-8') as dc: ## чтоб не собирать корпус каждый раз заново\n",
    "#    json.dump(corpus, dc)"
   ]
  },
  {
   "cell_type": "code",
   "execution_count": 21,
   "metadata": {},
   "outputs": [],
   "source": [
    "with open(\"doccorpus.json\", \"r\", encoding = 'utf-8') as dc:\n",
    "    copy_corpus = json.load(dc)"
   ]
  },
  {
   "cell_type": "code",
   "execution_count": 22,
   "metadata": {
    "collapsed": true
   },
   "outputs": [],
   "source": [
    "from sklearn.feature_extraction.text import CountVectorizer\n",
    "vectorizer = CountVectorizer()"
   ]
  },
  {
   "cell_type": "code",
   "execution_count": 23,
   "metadata": {
    "collapsed": true
   },
   "outputs": [],
   "source": [
    "corpusik = copy_corpus[:10000] ## корпус слишком большой"
   ]
  },
  {
   "cell_type": "code",
   "execution_count": 24,
   "metadata": {
    "collapsed": true
   },
   "outputs": [],
   "source": [
    "X = vectorizer.fit_transform(corpusik)\n",
    "f_matrix = X.toarray()"
   ]
  },
  {
   "cell_type": "code",
   "execution_count": 29,
   "metadata": {},
   "outputs": [
    {
     "data": {
      "text/plain": [
       "array([[0, 0, 0, ..., 0, 0, 0],\n",
       "       [0, 0, 0, ..., 0, 0, 0],\n",
       "       [0, 0, 0, ..., 0, 0, 0],\n",
       "       ...,\n",
       "       [0, 0, 0, ..., 0, 0, 0],\n",
       "       [0, 0, 0, ..., 0, 0, 0],\n",
       "       [0, 0, 0, ..., 0, 0, 0]], dtype=int64)"
      ]
     },
     "execution_count": 29,
     "metadata": {},
     "output_type": "execute_result"
    }
   ],
   "source": [
    "## Создание матрицы tf-ов\n",
    "doc_matrix = np.transpose(f_matrix)\n",
    "doc_matrix"
   ]
  },
  {
   "cell_type": "code",
   "execution_count": 109,
   "metadata": {},
   "outputs": [],
   "source": [
    "## Задание 1. Первый вариант bm25\n",
    "def bm25(all_n, docs_len, doc_matrix, q_list, corpus, doc, doc_words, k, b, avgdl, N) -> float:\n",
    "    output = 0\n",
    "    for word in q_list:\n",
    "        if word in doc_words:\n",
    "            w_idx = doc_words.index(word)\n",
    "            d_idx = corpus.index(doc)\n",
    "            TF = doc_matrix[w_idx][d_idx]\n",
    "            n = all_n[word]\n",
    "            IDF = log((N-n+0.5)/(n+0.5))          \n",
    "            l_d = docs_len[doc]\n",
    "            output += IDF * (((TF * (k+1))/(TF + k * (1 - b + (b * (l_d/avgdl))))))\n",
    "    return output"
   ]
  },
  {
   "cell_type": "code",
   "execution_count": 151,
   "metadata": {
    "collapsed": true
   },
   "outputs": [],
   "source": [
    "## Задание 1. Первый вариант bm25 (функция поиска)\n",
    "def long_search(query):\n",
    "    doc_words = vectorizer.get_feature_names()\n",
    "    k = 2.0\n",
    "    b = 0.75\n",
    "    N = len(corpusik)\n",
    "\n",
    "    all_n = {}\n",
    "    for word in doc_words:\n",
    "        w_idx = doc_words.index(word)\n",
    "        all_n[word] = np.count_nonzero(doc_matrix[w_idx])\n",
    "    \n",
    "    docs_len = {}\n",
    "    whole_len = 0\n",
    "    for doc in corpusik:\n",
    "        doc_len = len(doc.split())\n",
    "        docs_len[doc] = doc_len\n",
    "        whole_len += doc_len\n",
    "    \n",
    "    avgdl = whole_len/N\n",
    "    \n",
    "    q_list = [pmm.normal_forms(x)[0] for x in query.split()] \n",
    "    docs_bm = []\n",
    "    for doc, first_doc in zip(corpusik, docs):\n",
    "        bm = bm25(all_n, docs_len, doc_matrix, q_list, corpusik, doc, doc_words, k, b, avgdl, N)\n",
    "        docs_bm.append((first_doc, bm))\n",
    "    response = sorted(docs_bm,key=itemgetter(1), reverse = True)[:10]\n",
    "    print(response)\n",
    "    return response"
   ]
  },
  {
   "cell_type": "code",
   "execution_count": 152,
   "metadata": {},
   "outputs": [
    {
     "name": "stdout",
     "output_type": "stream",
     "text": [
      "[(['где я могу найти американскую базу данных семейного офиса'], 43.22957968026908), (['пить более 6 литров воды в день, хорошо или плохо для здоровья'], 37.63025569302986), (['пунктуация: правильно ли добавить вопросительный знак после риторического вопроса'], 13.740498767331104), (['что вы думаете о запрете на 500 и 1000 наименований в Индии?'], 13.543826172798589), (['есть ли способ купить телефон на emi через флипкарт с только дебетовой картой, как'], 12.740266886905324), (['какова была ваша самая большая проблема в качестве государственного секретаря'], 12.330609081755444), (['как преобразовать необработанные файлы в jpeg'], 12.330609081755444), (['сколько способов мы можем создать объект в java'], 12.330609081755444), (['как можно зарабатывать деньги в tutoruniverse com'], 12.330609081755444), (['в чем разница между китайской и западной культурой'], 11.57867848513406)]\n",
      "--- 68.12321090698242 seconds ---\n"
     ]
    }
   ],
   "source": [
    "## Задание 1. Первый вариант bm25 (смотрим время работы на 1 запросе - даже на одном как-то очень долго)\n",
    "start_time = time.time()\n",
    "long_search('где я могу найти американскую базу данных семейного офиса')\n",
    "print(\"--- %s seconds ---\" % (time.time() - start_time))"
   ]
  },
  {
   "cell_type": "code",
   "execution_count": 153,
   "metadata": {},
   "outputs": [],
   "source": [
    "## Задание 1. Второй вариант bm25\n",
    "def matr_bm25(all_n, docs_len, doc_matrix, corpus, doc_words, k, b, avgdl, N):\n",
    "    bm_matrix = []\n",
    "    for idx, word in enumerate(doc_words):\n",
    "        bm = 0\n",
    "        bm_matrix.append([])\n",
    "        for doc in corpus:\n",
    "            if word in doc:\n",
    "                w_idx = doc_words.index(word)\n",
    "                d_idx = corpus.index(doc)\n",
    "                TF = doc_matrix[w_idx][d_idx]\n",
    "                n = all_n[word]\n",
    "                IDF = log((N-n+0.5)/(n+0.5))          \n",
    "                l_d = docs_len[doc]\n",
    "                bm = IDF * ((TF * (k+1))/(TF + k * (1 - b + (b * (l_d/avgdl)))))\n",
    "            bm_matrix[idx].append(bm)\n",
    "    return bm_matrix      "
   ]
  },
  {
   "cell_type": "code",
   "execution_count": 167,
   "metadata": {},
   "outputs": [],
   "source": [
    "## Задание 1. Второй вариант bm25 (функция создания вектора из запроса)\n",
    "def vect_bm25(query, k, b, doc_words):\n",
    "    vect = []\n",
    "    IDF = 1.0986122886681096 ## посчитала отдельно\n",
    "    q_words = [pmm.normal_forms(x)[0] for x in query.split()]\n",
    "    for word in doc_words:\n",
    "        bm = 0\n",
    "        if word in q_words:\n",
    "            l_d = len(q_words)\n",
    "            TF = 1/l_d\n",
    "            bm = IDF * ((TF * (k+1))/(TF + k))\n",
    "        vect.append(bm)\n",
    "    vect = np.array(vect)\n",
    "    return vect"
   ]
  },
  {
   "cell_type": "code",
   "execution_count": 124,
   "metadata": {},
   "outputs": [],
   "source": [
    "## получаем матрицу bm'ов для корпуса\n",
    "bm_matrix = matr_bm25(all_n, docs_len, doc_matrix, corpusik, doc_words, k, b, avgdl, N)\n",
    "bm_matrix = np.array(bm_matrix)"
   ]
  },
  {
   "cell_type": "code",
   "execution_count": 71,
   "metadata": {},
   "outputs": [
    {
     "data": {
      "text/plain": [
       "array([[0.        , 0.        , 0.        , ..., 0.        , 0.        ,\n",
       "        0.        ],\n",
       "       [0.        , 0.        , 0.        , ..., 0.        , 0.        ,\n",
       "        0.        ],\n",
       "       [0.        , 0.        , 0.        , ..., 0.        , 0.        ,\n",
       "        0.        ],\n",
       "       ...,\n",
       "       [0.        , 0.        , 0.        , ..., 6.78342452, 6.78342452,\n",
       "        6.78342452],\n",
       "       [0.        , 0.        , 0.        , ..., 9.12123438, 9.12123438,\n",
       "        9.12123438],\n",
       "       [0.        , 0.        , 0.        , ..., 0.        , 0.        ,\n",
       "        0.        ]])"
      ]
     },
     "execution_count": 71,
     "metadata": {},
     "output_type": "execute_result"
    }
   ],
   "source": [
    "bm_matrix"
   ]
  },
  {
   "cell_type": "code",
   "execution_count": 172,
   "metadata": {
    "collapsed": true
   },
   "outputs": [],
   "source": [
    "## Задание 1. Второй вариант bm25 (функция поиска)\n",
    "def search(query, bm_matrix):\n",
    "    doc_words = vectorizer.get_feature_names()\n",
    "    k = 2.0\n",
    "    b = 0.75\n",
    "    q_vect = vect_bm25(query, k, b, doc_words)\n",
    "    doc_score = q_vect.dot(bm_matrix)\n",
    "    response = list(zip(docs, doc_score))\n",
    "    response = sorted(response,key=itemgetter(1), reverse = True)[:10]\n",
    "    print(response)\n",
    "    return response"
   ]
  },
  {
   "cell_type": "code",
   "execution_count": 173,
   "metadata": {},
   "outputs": [
    {
     "name": "stdout",
     "output_type": "stream",
     "text": [
      "[(['как я могу эффективно учиться во время сна'], 7.944774760250626), (['вы можете играть в азартные игры 4 на европейской игровой станции 4'], 7.944774760250626), (['кто твой лучший друг, почему'], 7.92808045013364), (['как он себя чувствует'], 7.92808045013364), (['который является Шри Шри Рави Шанкаром'], 7.92808045013364), (['означает ли это что угодно, если девушка посылает вам много сердец в ее текстах'], 7.92808045013364), (['как отношения Индии с американским'], 7.90450828151765), (['Как я могу перестать смотреть порно'], 7.90450828151765), (['почему uk имели плохие жизненные стандарты в 70-х годах 80-х годов, но теперь лучше'], 7.90450828151765), (['как может студенческая помощь в исследовании машинного обучения'], 7.90450828151765)]\n",
      "--- 0.16111373901367188 seconds ---\n"
     ]
    }
   ],
   "source": [
    "## Задание 1. Второй вариант bm25 (смотрим время работы на 1 запросе) \n",
    "## Гораздо быстрее, чем первый, но зато совсем неправильно...... как же так\n",
    "start_time = time.time()\n",
    "search('где я могу найти американскую базу данных семейного офиса', bm_matrix)\n",
    "print(\"--- %s seconds ---\" % (time.time() - start_time))"
   ]
  },
  {
   "cell_type": "code",
   "execution_count": 174,
   "metadata": {},
   "outputs": [
    {
     "name": "stdout",
     "output_type": "stream",
     "text": [
      "[(['в охотнике x охотник, который, должно быть, послал орла, чтобы напасть на комуги'], 7.6698738084581), (['что является лучшим вариантом для инвестиций'], 7.6698738084581), (['почему в голландской империи было так мало колоний в XX веке'], 7.6698738084581), (['является хамасом террористической группы'], 7.6698738084581), (['я должен уделить время от знакомства, чтобы сосредоточиться на изменении карьеры. Я 33-летний мужчина'], 7.6698738084581), (['что должен делать парень, когда в середине разговора его девушка переключается на просмотр фильмов, чем разговаривает с ним'], 7.6698738084581), (['почему мой ноутбук перегревается'], 7.6698738084581), (['я страдаю от пограничного расстройства личности, и мой парень не понимает его, как я могу помочь ему понять, поэтому он будет более терпеливым со мной'], 7.6698738084581), (['как вы справляетесь с работой, когда вы и ваша девушка работаете в одном офисе'], 7.6698738084581), (['рабочие, ненавистные или почитаемые в американском обществе'], 7.6698738084581)]\n"
     ]
    },
    {
     "data": {
      "text/plain": [
       "[(['в охотнике x охотник, который, должно быть, послал орла, чтобы напасть на комуги'],\n",
       "  7.6698738084581),\n",
       " (['что является лучшим вариантом для инвестиций'], 7.6698738084581),\n",
       " (['почему в голландской империи было так мало колоний в XX веке'],\n",
       "  7.6698738084581),\n",
       " (['является хамасом террористической группы'], 7.6698738084581),\n",
       " (['я должен уделить время от знакомства, чтобы сосредоточиться на изменении карьеры. Я 33-летний мужчина'],\n",
       "  7.6698738084581),\n",
       " (['что должен делать парень, когда в середине разговора его девушка переключается на просмотр фильмов, чем разговаривает с ним'],\n",
       "  7.6698738084581),\n",
       " (['почему мой ноутбук перегревается'], 7.6698738084581),\n",
       " (['я страдаю от пограничного расстройства личности, и мой парень не понимает его, как я могу помочь ему понять, поэтому он будет более терпеливым со мной'],\n",
       "  7.6698738084581),\n",
       " (['как вы справляетесь с работой, когда вы и ваша девушка работаете в одном офисе'],\n",
       "  7.6698738084581),\n",
       " (['рабочие, ненавистные или почитаемые в американском обществе'],\n",
       "  7.6698738084581)]"
      ]
     },
     "execution_count": 174,
     "metadata": {},
     "output_type": "execute_result"
    }
   ],
   "source": [
    "## ЗАДАНИЕ 2.\n",
    "search('рождественские каникулы', bm_matrix)"
   ]
  },
  {
   "cell_type": "markdown",
   "metadata": {},
   "source": [
    "Ниже Задание 3. (но я не поняла, как посчитать точность)"
   ]
  },
  {
   "cell_type": "code",
   "execution_count": 182,
   "metadata": {},
   "outputs": [],
   "source": [
    "def search_bm15(query, bm_matrix):\n",
    "    doc_words = vectorizer.get_feature_names()\n",
    "    k = 2.0\n",
    "    b = 0\n",
    "    q_vect = vect_bm25(query, k, b, doc_words)\n",
    "    doc_score = q_vect.dot(bm_matrix)\n",
    "    response = list(zip(docs, doc_score))\n",
    "    response = sorted(response,key=itemgetter(1), reverse = True)[:10]\n",
    "    return response"
   ]
  },
  {
   "cell_type": "code",
   "execution_count": 183,
   "metadata": {},
   "outputs": [],
   "source": [
    "def search_bm11(query, bm_matrix):\n",
    "    doc_words = vectorizer.get_feature_names()\n",
    "    k = 2.0\n",
    "    b = 1\n",
    "    q_vect = vect_bm25(query, k, b, doc_words)\n",
    "    doc_score = q_vect.dot(bm_matrix)\n",
    "    response = list(zip(docs, doc_score))\n",
    "    response = sorted(response,key=itemgetter(1), reverse = True)[:10]\n",
    "    return response"
   ]
  },
  {
   "cell_type": "code",
   "execution_count": 184,
   "metadata": {},
   "outputs": [
    {
     "name": "stdout",
     "output_type": "stream",
     "text": [
      "[(['как я могу эффективно учиться во время сна'], 7.944774760250626), (['вы можете играть в азартные игры 4 на европейской игровой станции 4'], 7.944774760250626), (['кто твой лучший друг, почему'], 7.92808045013364), (['как он себя чувствует'], 7.92808045013364), (['который является Шри Шри Рави Шанкаром'], 7.92808045013364), (['означает ли это что угодно, если девушка посылает вам много сердец в ее текстах'], 7.92808045013364), (['как отношения Индии с американским'], 7.90450828151765), (['Как я могу перестать смотреть порно'], 7.90450828151765), (['почему uk имели плохие жизненные стандарты в 70-х годах 80-х годов, но теперь лучше'], 7.90450828151765), (['как может студенческая помощь в исследовании машинного обучения'], 7.90450828151765)]\n"
     ]
    },
    {
     "data": {
      "text/plain": [
       "[(['как я могу эффективно учиться во время сна'], 7.944774760250626),\n",
       " (['вы можете играть в азартные игры 4 на европейской игровой станции 4'],\n",
       "  7.944774760250626),\n",
       " (['кто твой лучший друг, почему'], 7.92808045013364),\n",
       " (['как он себя чувствует'], 7.92808045013364),\n",
       " (['который является Шри Шри Рави Шанкаром'], 7.92808045013364),\n",
       " (['означает ли это что угодно, если девушка посылает вам много сердец в ее текстах'],\n",
       "  7.92808045013364),\n",
       " (['как отношения Индии с американским'], 7.90450828151765),\n",
       " (['Как я могу перестать смотреть порно'], 7.90450828151765),\n",
       " (['почему uk имели плохие жизненные стандарты в 70-х годах 80-х годов, но теперь лучше'],\n",
       "  7.90450828151765),\n",
       " (['как может студенческая помощь в исследовании машинного обучения'],\n",
       "  7.90450828151765)]"
      ]
     },
     "execution_count": 184,
     "metadata": {},
     "output_type": "execute_result"
    }
   ],
   "source": [
    "response = search('где я могу найти американскую базу данных семейного офиса', bm_matrix)\n",
    "response"
   ]
  },
  {
   "cell_type": "code",
   "execution_count": 185,
   "metadata": {},
   "outputs": [
    {
     "data": {
      "text/plain": [
       "[(['как я могу эффективно учиться во время сна'], 7.944774760250626),\n",
       " (['вы можете играть в азартные игры 4 на европейской игровой станции 4'],\n",
       "  7.944774760250626),\n",
       " (['кто твой лучший друг, почему'], 7.92808045013364),\n",
       " (['как он себя чувствует'], 7.92808045013364),\n",
       " (['который является Шри Шри Рави Шанкаром'], 7.92808045013364),\n",
       " (['означает ли это что угодно, если девушка посылает вам много сердец в ее текстах'],\n",
       "  7.92808045013364),\n",
       " (['как отношения Индии с американским'], 7.90450828151765),\n",
       " (['Как я могу перестать смотреть порно'], 7.90450828151765),\n",
       " (['почему uk имели плохие жизненные стандарты в 70-х годах 80-х годов, но теперь лучше'],\n",
       "  7.90450828151765),\n",
       " (['как может студенческая помощь в исследовании машинного обучения'],\n",
       "  7.90450828151765)]"
      ]
     },
     "execution_count": 185,
     "metadata": {},
     "output_type": "execute_result"
    }
   ],
   "source": [
    "response = search_bm15('где я могу найти американскую базу данных семейного офиса', bm_matrix)\n",
    "response"
   ]
  },
  {
   "cell_type": "code",
   "execution_count": 186,
   "metadata": {},
   "outputs": [
    {
     "data": {
      "text/plain": [
       "[(['как я могу эффективно учиться во время сна'], 7.944774760250626),\n",
       " (['вы можете играть в азартные игры 4 на европейской игровой станции 4'],\n",
       "  7.944774760250626),\n",
       " (['кто твой лучший друг, почему'], 7.92808045013364),\n",
       " (['как он себя чувствует'], 7.92808045013364),\n",
       " (['который является Шри Шри Рави Шанкаром'], 7.92808045013364),\n",
       " (['означает ли это что угодно, если девушка посылает вам много сердец в ее текстах'],\n",
       "  7.92808045013364),\n",
       " (['как отношения Индии с американским'], 7.90450828151765),\n",
       " (['Как я могу перестать смотреть порно'], 7.90450828151765),\n",
       " (['почему uk имели плохие жизненные стандарты в 70-х годах 80-х годов, но теперь лучше'],\n",
       "  7.90450828151765),\n",
       " (['как может студенческая помощь в исследовании машинного обучения'],\n",
       "  7.90450828151765)]"
      ]
     },
     "execution_count": 186,
     "metadata": {},
     "output_type": "execute_result"
    }
   ],
   "source": [
    "response = search_bm11('где я могу найти американскую базу данных семейного офиса', bm_matrix)\n",
    "response"
   ]
  },
  {
   "cell_type": "code",
   "execution_count": null,
   "metadata": {
    "collapsed": true
   },
   "outputs": [],
   "source": []
  }
 ],
 "metadata": {
  "kernelspec": {
   "display_name": "Python 3",
   "language": "python",
   "name": "python3"
  },
  "language_info": {
   "codemirror_mode": {
    "name": "ipython",
    "version": 3
   },
   "file_extension": ".py",
   "mimetype": "text/x-python",
   "name": "python",
   "nbconvert_exporter": "python",
   "pygments_lexer": "ipython3",
   "version": "3.6.1"
  }
 },
 "nbformat": 4,
 "nbformat_minor": 2
}
